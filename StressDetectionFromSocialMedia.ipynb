{
  "nbformat": 4,
  "nbformat_minor": 0,
  "metadata": {
    "colab": {
      "provenance": [],
      "gpuType": "V28"
    },
    "kernelspec": {
      "name": "python3",
      "display_name": "Python 3"
    },
    "language_info": {
      "name": "python"
    },
    "accelerator": "TPU"
  },
  "cells": [
    {
      "cell_type": "markdown",
      "source": [
        "#Building a Stress Detector - Comparison of Different Word to Vector Conversion Methods\n",
        "---\n",
        "##Vishal Chand (244156030), Computing with Signals\n",
        "---\n",
        "###Stress Detection from Social Media Text Using Multimodal Vectorization Techniques\n",
        "\n",
        "---\n",
        "## Project Description\n",
        "\n",
        "This project focuses on detecting psychological stress from social media posts using various natural language processing (NLP) techniques. The task involves analyzing text-based posts labeled as either “stressed” or “not stressed” and building classification models that can automatically identify the mental state of the author based on the text.\n",
        "\n",
        "The dataset used is the **Dreaddit** dataset, a publicly available corpus containing Reddit posts from different subreddits associated with either high-stress (e.g., r/depression, r/anxiety) or low-stress (e.g., r/aww, r/mildlyinteresting) environments. Each post is labeled as either \"stressed\" or \"not stressed\", making it suitable for binary classification.\n",
        "\n",
        "* **Total size:** 3555 posts\n",
        "* **Training set:** 2839 samples\n",
        "* **Test set:** 716 samples\n",
        "* **Label distribution:** Fairly balanced between stressed and not-stressed classes\n",
        "\n",
        "This dataset offers a realistic view of how mental health indicators appear in natural language and provides a meaningful challenge for text classification.\n",
        "\n",
        "To approach this, I implemented and evaluated six different methods for text representation and classification:\n",
        "\n",
        "1. **Bag-of-Words (BoW):** A basic frequency-based approach that converts text into numerical vectors based on word occurrence.\n",
        "2. **TF-IDF (Term Frequency-Inverse Document Frequency):** An enhancement over BoW that captures the relative importance of words across the dataset.\n",
        "3. **Self-trained Word2Vec (CBOW - Continuous Bag of Words):** A continuous bag-of-words model trained from scratch on the dataset to learn word embeddings.\n",
        "4. **Self-trained Word2Vec (Skip-Gram):** A skip-gram model also trained from scratch to capture word-context relationships.\n",
        "5. **Pre-trained Word2Vec (CBOW):** Using externally trained CBOW embeddings to represent words.\n",
        "6. **Pre-trained Word2Vec (Skip-Gram):** Using externally trained skip-gram embeddings for feature representation.\n",
        "\n",
        "For each of these methods, a **logistic regression** model was used as the classifier. The performance of all models was compared using standard metrics such as **accuracy**, **precision**, **recall**, and **F1-score**, helping evaluate the strengths and weaknesses of each representation in the context of stress detection.\n"
      ],
      "metadata": {
        "id": "SHyJ3HteQPiZ"
      }
    },
    {
      "cell_type": "markdown",
      "source": [
        "## Motivation\n",
        "\n",
        "In this course, I studied several foundational techniques in text processing, including Tokenization, Stopword Removal, Bag-of-Words (BoW), TF-IDF vectorization, and neural embedding methods like Continuous Bag-of-Words (CBOW) and Skip-Gram. These concepts were covered both theoretically and practically, and I wanted to consolidate my understanding by applying them in a real-world NLP task.\n",
        "\n",
        "The motivation behind this project is to gain hands-on experience in using these different text representation techniques and to systematically compare their performance on a binary classification problem. By implementing and evaluating both traditional vectorization methods and neural embedding-based approaches, the goal is to understand the strengths, limitations, and situational appropriateness of each.\n",
        "\n",
        "Additionally, although the mental health domain is complex and typically requires expert intervention, this project touches on a socially relevant application: detecting psychological stress from social media posts. While not intended to replace clinical diagnosis, such systems could assist in early flagging of individuals who might benefit from expert attention."
      ],
      "metadata": {
        "id": "j4bGK8U6V4b2"
      }
    },
    {
      "cell_type": "markdown",
      "source": [
        "## Historical Perspective & Connection to Current Work\n",
        "\n",
        "Text representation has evolved significantly, influencing both traditional NLP and modern multimodal learning. Initially, **one-hot encoding** was used, but it failed to capture any semantic similarity and resulted in high-dimensional sparse vectors. This led to the development of **Bag-of-Words (BoW)**, which represented text using word frequencies, though it still ignored word order and context.\n",
        "\n",
        "**TF-IDF** improved upon BoW by weighting words based on their importance across documents, but it remained context-independent. The shift to **neural embeddings**, such as **CBOW** and **Skip-Gram** (Word2Vec), allowed models to learn dense, low-dimensional vectors that captured contextual and semantic relationships between words.\n",
        "\n",
        "These advances laid the foundation for modern multimodal learning, where such embeddings are crucial for aligning and integrating textual data with other modalities like image and audio. This project follows this progression, comparing these methods for a real-world text classification task."
      ],
      "metadata": {
        "id": "BusKD65AKJER"
      }
    },
    {
      "cell_type": "markdown",
      "source": [
        "## Learning from This Work\n",
        "\n",
        "Through this project, I was able to deepen my understanding of various text representation methods covered during the course. By practically implementing and comparing approaches like **Bag-of-Words**, **TF-IDF**, and neural embedding methods such as **Continuous Bag-of-Words (CBOW)** and **Skip-Gram**, I observed how different techniques capture different levels of linguistic information. I learned that while traditional methods like BoW and TF-IDF are useful and interpretable, they fail to capture word context and semantics. On the other hand, embeddings - especially those trained on large corpora - encode richer relationships between words, improving performance on classification tasks. Additionally, training embeddings from scratch gave me insight into how much data and tuning they require to perform well. This work helped bridge theory and implementation, enhanced my ability to analyze model behavior critically, and reinforced the importance of choosing the right representation based on the task and data at hand.\n"
      ],
      "metadata": {
        "id": "dXs9_DfuXF8_"
      }
    },
    {
      "cell_type": "markdown",
      "source": [
        "##Code:"
      ],
      "metadata": {
        "id": "IO3qRZDcXXJM"
      }
    },
    {
      "cell_type": "code",
      "source": [
        "!pip install -q --upgrade --no-cache-dir \"numpy<2.0\" \"scipy<1.14\" gensim==4.3.3"
      ],
      "metadata": {
        "id": "TpyTgJmzDk2O"
      },
      "execution_count": null,
      "outputs": []
    },
    {
      "cell_type": "code",
      "source": [
        "# Re‑starting the kernel once so it picks up the new NumPy\n",
        "import os, signal, sys; os.kill(os.getpid(), signal.SIGTERM)"
      ],
      "metadata": {
        "id": "bGHOsiDDDxMF"
      },
      "execution_count": null,
      "outputs": []
    },
    {
      "cell_type": "code",
      "source": [
        "import numpy as np, gensim\n",
        "print(np.__version__, gensim.__version__)   # 1.26.4  4.3.3\n",
        "from gensim.models import Word2Vec          # no error\n"
      ],
      "metadata": {
        "colab": {
          "base_uri": "https://localhost:8080/"
        },
        "id": "YdOT2_cBD1Qd",
        "outputId": "f2bff7f9-47b2-4b66-da3e-0776453c5f9a"
      },
      "execution_count": null,
      "outputs": [
        {
          "output_type": "stream",
          "name": "stdout",
          "text": [
            "1.26.4 4.3.3\n"
          ]
        }
      ]
    },
    {
      "cell_type": "code",
      "source": [
        "# Importing libraries\n",
        "import numpy as np\n",
        "import pandas as pd\n",
        "import nltk\n",
        "from nltk.corpus import stopwords\n",
        "from nltk.tokenize import word_tokenize\n",
        "from nltk.stem import WordNetLemmatizer\n",
        "from sklearn.feature_extraction.text import CountVectorizer, TfidfVectorizer\n",
        "from sklearn.linear_model import LogisticRegression\n",
        "from sklearn.metrics import accuracy_score, classification_report\n",
        "from gensim.models import Word2Vec\n",
        "import gensim.downloader as api\n",
        "import matplotlib.pyplot as plt\n",
        "import seaborn as sns\n",
        "import matplotlib.ticker as mtick"
      ],
      "metadata": {
        "id": "5BYbgJ2zBJBP"
      },
      "execution_count": null,
      "outputs": []
    },
    {
      "cell_type": "code",
      "source": [
        "# Download NLTK resources\n",
        "nltk.download('punkt')\n",
        "nltk.download('stopwords')\n",
        "nltk.download('wordnet')\n",
        "nltk.download('punkt_tab')"
      ],
      "metadata": {
        "colab": {
          "base_uri": "https://localhost:8080/"
        },
        "id": "Ritt-4cUBNQm",
        "outputId": "580ae0a4-4b88-45e9-82c5-d887c49e1b2f"
      },
      "execution_count": null,
      "outputs": [
        {
          "output_type": "stream",
          "name": "stderr",
          "text": [
            "[nltk_data] Downloading package punkt to /root/nltk_data...\n",
            "[nltk_data]   Package punkt is already up-to-date!\n",
            "[nltk_data] Downloading package stopwords to /root/nltk_data...\n",
            "[nltk_data]   Package stopwords is already up-to-date!\n",
            "[nltk_data] Downloading package wordnet to /root/nltk_data...\n",
            "[nltk_data]   Package wordnet is already up-to-date!\n",
            "[nltk_data] Downloading package punkt_tab to /root/nltk_data...\n",
            "[nltk_data]   Unzipping tokenizers/punkt_tab.zip.\n"
          ]
        },
        {
          "output_type": "execute_result",
          "data": {
            "text/plain": [
              "True"
            ]
          },
          "metadata": {},
          "execution_count": 6
        }
      ]
    },
    {
      "cell_type": "code",
      "source": [
        "# Step 1: Load the pre-split Dreaddit Dataset\n",
        "train_df = pd.read_csv('train.csv')\n",
        "test_df = pd.read_csv('test.csv')"
      ],
      "metadata": {
        "id": "07vhfF3-BOs2"
      },
      "execution_count": null,
      "outputs": []
    },
    {
      "cell_type": "code",
      "source": [
        "# Preprocessing function\n",
        "lemmatizer = WordNetLemmatizer()\n",
        "stop_words = set(stopwords.words('english'))\n",
        "\n",
        "def preprocess(text):\n",
        "    text = text.lower()\n",
        "    text = ''.join([char for char in text if char.isalnum() or char.isspace()])\n",
        "    tokens = word_tokenize(text)\n",
        "    tokens = [lemmatizer.lemmatize(word) for word in tokens if word not in stop_words]\n",
        "    return tokens\n",
        "\n",
        "# Apply preprocessing to both datasets\n",
        "train_df['processed_text'] = train_df['text'].apply(preprocess)\n",
        "test_df['processed_text'] = test_df['text'].apply(preprocess)\n",
        "train_df['text_clean'] = train_df['processed_text'].apply(lambda x: ' '.join(x))\n",
        "test_df['text_clean'] = test_df['processed_text'].apply(lambda x: ' '.join(x))\n",
        "\n",
        "# Extract labels (assuming the column is named 'label')\n",
        "y_train = train_df['label']\n",
        "y_test = test_df['label']"
      ],
      "metadata": {
        "id": "6quLtdrJBQve"
      },
      "execution_count": null,
      "outputs": []
    },
    {
      "cell_type": "code",
      "source": [
        "# Step 2: Feature Extraction and Classifier Training"
      ],
      "metadata": {
        "id": "9erWdzScaAVD"
      },
      "execution_count": null,
      "outputs": []
    },
    {
      "cell_type": "code",
      "source": [
        "# 2.1 Bag-of-Words (BoW)\n",
        "vectorizer = CountVectorizer()\n",
        "X_train_bow = vectorizer.fit_transform(train_df['text_clean'])\n",
        "X_test_bow = vectorizer.transform(test_df['text_clean'])\n",
        "\n",
        "clf_bow = LogisticRegression(max_iter=1000)\n",
        "clf_bow.fit(X_train_bow, y_train)\n",
        "y_pred_bow = clf_bow.predict(X_test_bow)\n",
        "bow_accuracy = accuracy_score(y_test, y_pred_bow)\n",
        "print(\"BoW Accuracy:\", bow_accuracy)\n",
        "print(\"BoW Classification Report:\\n\", classification_report(y_test, y_pred_bow))"
      ],
      "metadata": {
        "colab": {
          "base_uri": "https://localhost:8080/"
        },
        "id": "4wkX7m2vEItv",
        "outputId": "bbd283e4-5974-4f1d-de0a-c7400d9c3749"
      },
      "execution_count": null,
      "outputs": [
        {
          "output_type": "stream",
          "name": "stdout",
          "text": [
            "BoW Accuracy: 0.7272727272727273\n",
            "BoW Classification Report:\n",
            "               precision    recall  f1-score   support\n",
            "\n",
            "           0       0.72      0.71      0.72       346\n",
            "           1       0.73      0.74      0.74       369\n",
            "\n",
            "    accuracy                           0.73       715\n",
            "   macro avg       0.73      0.73      0.73       715\n",
            "weighted avg       0.73      0.73      0.73       715\n",
            "\n"
          ]
        }
      ]
    },
    {
      "cell_type": "code",
      "source": [
        "# 2.2 TF-IDF\n",
        "tfidf_vectorizer = TfidfVectorizer()\n",
        "X_train_tfidf = tfidf_vectorizer.fit_transform(train_df['text_clean'])\n",
        "X_test_tfidf = tfidf_vectorizer.transform(test_df['text_clean'])\n",
        "\n",
        "clf_tfidf = LogisticRegression(max_iter=1000)\n",
        "clf_tfidf.fit(X_train_tfidf, y_train)\n",
        "y_pred_tfidf = clf_tfidf.predict(X_test_tfidf)\n",
        "tfidf_accuracy = accuracy_score(y_test, y_pred_tfidf)\n",
        "print(\"TF-IDF Accuracy:\", tfidf_accuracy)\n",
        "print(\"TF-IDF Classification Report:\\n\", classification_report(y_test, y_pred_tfidf))"
      ],
      "metadata": {
        "colab": {
          "base_uri": "https://localhost:8080/"
        },
        "id": "U4g_C3qAELmG",
        "outputId": "fa69488a-aa1a-4dbb-b432-f00893309b02"
      },
      "execution_count": null,
      "outputs": [
        {
          "output_type": "stream",
          "name": "stdout",
          "text": [
            "TF-IDF Accuracy: 0.7188811188811188\n",
            "TF-IDF Classification Report:\n",
            "               precision    recall  f1-score   support\n",
            "\n",
            "           0       0.74      0.65      0.69       346\n",
            "           1       0.71      0.78      0.74       369\n",
            "\n",
            "    accuracy                           0.72       715\n",
            "   macro avg       0.72      0.72      0.72       715\n",
            "weighted avg       0.72      0.72      0.72       715\n",
            "\n"
          ]
        }
      ]
    },
    {
      "cell_type": "code",
      "source": [
        "# 2.3 Word2Vec: CBOW and Skip-Gram (Trained from Scratch)\n",
        "# CBOW\n",
        "cbow_model = Word2Vec(sentences=train_df['processed_text'], vector_size=100, window=5, min_count=1, workers=4, sg=0)\n",
        "# Skip-Gram\n",
        "skipgram_model = Word2Vec(sentences=train_df['processed_text'], vector_size=100, window=5, min_count=1, workers=4, sg=1)\n",
        "\n",
        "# Function to convert sentence to vector\n",
        "def sentence_vector(sentence, keyed_vectors):\n",
        "    vectors = [keyed_vectors[word] for word in sentence if word in keyed_vectors]\n",
        "    if len(vectors) == 0:\n",
        "        return np.zeros(keyed_vectors.vector_size)\n",
        "    return np.mean(vectors, axis=0)\n",
        "\n",
        "# CBOW vectors\n",
        "X_train_cbow = np.array([sentence_vector(sent, cbow_model.wv) for sent in train_df['processed_text']])\n",
        "X_test_cbow = np.array([sentence_vector(sent, cbow_model.wv) for sent in test_df['processed_text']])\n",
        "clf_cbow = LogisticRegression(max_iter=1000)\n",
        "clf_cbow.fit(X_train_cbow, y_train)\n",
        "y_pred_cbow = clf_cbow.predict(X_test_cbow)\n",
        "cbow_trained_accuracy = accuracy_score(y_test, y_pred_cbow)\n",
        "print(\"CBOW (Trained) Accuracy:\", cbow_trained_accuracy)\n",
        "print(\"CBOW (Trained) Classification Report:\\n\", classification_report(y_test, y_pred_cbow))\n",
        "\n",
        "# Skip-Gram vectors\n",
        "X_train_skipgram = np.array([sentence_vector(sent, skipgram_model.wv) for sent in train_df['processed_text']])\n",
        "X_test_skipgram = np.array([sentence_vector(sent, skipgram_model.wv) for sent in test_df['processed_text']])\n",
        "clf_skipgram = LogisticRegression(max_iter=1000)\n",
        "clf_skipgram.fit(X_train_skipgram, y_train)\n",
        "y_pred_skipgram = clf_skipgram.predict(X_test_skipgram)\n",
        "skipgram_trained_accuracy = accuracy_score(y_test, y_pred_skipgram)\n",
        "print(\"Skip-Gram (Trained) Accuracy:\", skipgram_trained_accuracy)\n",
        "print(\"Skip-Gram (Trained) Classification Report:\\n\", classification_report(y_test, y_pred_skipgram))"
      ],
      "metadata": {
        "colab": {
          "base_uri": "https://localhost:8080/"
        },
        "id": "G0r3IHOlEVy9",
        "outputId": "83fb0972-f3e5-4132-c43b-f440166707c0"
      },
      "execution_count": null,
      "outputs": [
        {
          "output_type": "stream",
          "name": "stdout",
          "text": [
            "CBOW (Trained) Accuracy: 0.5594405594405595\n",
            "CBOW (Trained) Classification Report:\n",
            "               precision    recall  f1-score   support\n",
            "\n",
            "           0       0.56      0.41      0.48       346\n",
            "           1       0.56      0.70      0.62       369\n",
            "\n",
            "    accuracy                           0.56       715\n",
            "   macro avg       0.56      0.55      0.55       715\n",
            "weighted avg       0.56      0.56      0.55       715\n",
            "\n",
            "Skip-Gram (Trained) Accuracy: 0.6825174825174826\n",
            "Skip-Gram (Trained) Classification Report:\n",
            "               precision    recall  f1-score   support\n",
            "\n",
            "           0       0.74      0.53      0.62       346\n",
            "           1       0.65      0.82      0.73       369\n",
            "\n",
            "    accuracy                           0.68       715\n",
            "   macro avg       0.70      0.68      0.67       715\n",
            "weighted avg       0.69      0.68      0.68       715\n",
            "\n"
          ]
        }
      ]
    },
    {
      "cell_type": "code",
      "source": [
        "# 2.4 Pre-trained Word2Vec\n",
        "pretrained_model = api.load(\"word2vec-google-news-300\")\n",
        "X_train_pretrained = np.array([sentence_vector(sent, pretrained_model) for sent in train_df['processed_text']])\n",
        "X_test_pretrained = np.array([sentence_vector(sent, pretrained_model) for sent in test_df['processed_text']])\n",
        "clf_pretrained = LogisticRegression(max_iter=1000)\n",
        "clf_pretrained.fit(X_train_pretrained, y_train)\n",
        "y_pred_pretrained = clf_pretrained.predict(X_test_pretrained)\n",
        "pretrained_accuracy = accuracy_score(y_test, y_pred_pretrained)\n",
        "print(\"Pre-trained Word2Vec Accuracy:\", pretrained_accuracy)\n",
        "print(\"Pre-trained Word2Vec Classification Report:\\n\", classification_report(y_test, y_pred_pretrained))"
      ],
      "metadata": {
        "colab": {
          "base_uri": "https://localhost:8080/"
        },
        "id": "znrmOKqzEdSd",
        "outputId": "9603fae6-f81d-431d-9792-d131c76dee68"
      },
      "execution_count": null,
      "outputs": [
        {
          "output_type": "stream",
          "name": "stdout",
          "text": [
            "[==================================================] 100.0% 1662.8/1662.8MB downloaded\n",
            "Pre-trained Word2Vec Accuracy: 0.7272727272727273\n",
            "Pre-trained Word2Vec Classification Report:\n",
            "               precision    recall  f1-score   support\n",
            "\n",
            "           0       0.74      0.67      0.70       346\n",
            "           1       0.72      0.78      0.75       369\n",
            "\n",
            "    accuracy                           0.73       715\n",
            "   macro avg       0.73      0.73      0.73       715\n",
            "weighted avg       0.73      0.73      0.73       715\n",
            "\n"
          ]
        }
      ]
    },
    {
      "cell_type": "code",
      "source": [
        "# 2.5 Fine-tuned Pre-trained Word2Vec\n",
        "# Load the pre-trained KeyedVectors\n",
        "pretrained_vectors = api.load(\"word2vec-google-news-300\")\n",
        "\n",
        "# Save pre-trained vectors to a file in Word2Vec format\n",
        "pretrained_vectors.save_word2vec_format('pretrained_vectors.txt')"
      ],
      "metadata": {
        "collapsed": true,
        "id": "68Si738SGvrU"
      },
      "execution_count": null,
      "outputs": []
    },
    {
      "cell_type": "code",
      "source": [
        "# Create a new Word2Vec model with the same vector size\n",
        "finetuned_model = Word2Vec(vector_size=pretrained_vectors.vector_size, min_count=1, workers=4)\n",
        "\n",
        "# Build vocabulary with training sentences\n",
        "finetuned_model.build_vocab(train_df['processed_text'])\n",
        "\n",
        "# Explicitly initialize vectors_lockf to match vocabulary size\n",
        "finetuned_model.wv.vectors_lockf = np.ones(len(finetuned_model.wv), dtype=np.float32)\n",
        "\n",
        "# Intersect with pre-trained vectors to initialize common words\n",
        "finetuned_model.wv.intersect_word2vec_format('pretrained_vectors.txt', lockf=1.0, binary=False)\n",
        "\n",
        "# Fine-tune the model on training sentences\n",
        "finetuned_model.train(train_df['processed_text'], total_examples=len(train_df['processed_text']), epochs=5)\n",
        "\n",
        "# Generate sentence vectors for training and testing\n",
        "X_train_finetuned = np.array([sentence_vector(sent, finetuned_model.wv) for sent in train_df['processed_text']])\n",
        "X_test_finetuned = np.array([sentence_vector(sent, finetuned_model.wv) for sent in test_df['processed_text']])\n",
        "\n",
        "# Train logistic regression classifier\n",
        "clf_finetuned = LogisticRegression(max_iter=1000)\n",
        "clf_finetuned.fit(X_train_finetuned, y_train)\n",
        "\n",
        "# Predict and evaluate\n",
        "y_pred_finetuned = clf_finetuned.predict(X_test_finetuned)\n",
        "finetuned_accuracy = accuracy_score(y_test, y_pred_finetuned)\n",
        "print(\"Fine-tuned Pre-trained Word2Vec Accuracy:\", finetuned_accuracy)\n",
        "print(\"Fine-tuned Pre-trained Word2Vec Classification Report:\\n\", classification_report(y_test, y_pred_finetuned))"
      ],
      "metadata": {
        "colab": {
          "base_uri": "https://localhost:8080/"
        },
        "id": "98oSZmGcN2Gq",
        "outputId": "336c5f4b-06c4-40ed-f597-b170110eda34"
      },
      "execution_count": null,
      "outputs": [
        {
          "output_type": "stream",
          "name": "stdout",
          "text": [
            "Fine-tuned Pre-trained Word2Vec Accuracy: 0.7468531468531469\n",
            "Fine-tuned Pre-trained Word2Vec Classification Report:\n",
            "               precision    recall  f1-score   support\n",
            "\n",
            "           0       0.79      0.64      0.71       346\n",
            "           1       0.72      0.84      0.77       369\n",
            "\n",
            "    accuracy                           0.75       715\n",
            "   macro avg       0.76      0.74      0.74       715\n",
            "weighted avg       0.75      0.75      0.74       715\n",
            "\n"
          ]
        }
      ]
    },
    {
      "cell_type": "code",
      "source": [
        "# Step 3: Compare Performance\n",
        "results = {\n",
        "    'BoW': bow_accuracy,\n",
        "    'TF-IDF': tfidf_accuracy,\n",
        "    'CBOW (Trained)': cbow_trained_accuracy,\n",
        "    'Skip-Gram (Trained)': skipgram_trained_accuracy,\n",
        "    'Pre-trained Word2Vec': pretrained_accuracy,\n",
        "    'Fine-tuned Pre-trained Word2Vec': finetuned_accuracy\n",
        "}\n",
        "\n",
        "print(\"\\nPerformance Comparison:\")\n",
        "for method, acc in results.items():\n",
        "    print(f\"{method}: {acc:.4f}\")\n",
        "\n",
        "# Visualize results\n",
        "plt.bar(results.keys(), results.values())\n",
        "plt.xticks(rotation=45)\n",
        "plt.ylabel('Accuracy')\n",
        "plt.title('Classifier Performance Comparison')\n",
        "plt.tight_layout()\n",
        "plt.savefig('performance_comparison.png')\n",
        "plt.close()"
      ],
      "metadata": {
        "colab": {
          "base_uri": "https://localhost:8080/"
        },
        "id": "oLSRw6hMBI7f",
        "outputId": "1df58662-ff96-4215-b967-0bc19b8d76fe"
      },
      "execution_count": null,
      "outputs": [
        {
          "output_type": "stream",
          "name": "stdout",
          "text": [
            "\n",
            "Performance Comparison:\n",
            "BoW: 0.7273\n",
            "TF-IDF: 0.7189\n",
            "CBOW (Trained): 0.5594\n",
            "Skip-Gram (Trained): 0.6825\n",
            "Pre-trained Word2Vec: 0.7273\n",
            "Fine-tuned Pre-trained Word2Vec: 0.7469\n"
          ]
        }
      ]
    },
    {
      "cell_type": "markdown",
      "source": [
        "---\n",
        "## Performance Metrics Comparison (Bar Plot)"
      ],
      "metadata": {
        "id": "2pO406o561w7"
      }
    },
    {
      "cell_type": "code",
      "source": [
        "# Constructing the dataframe using performance metrics\n",
        "data = {\n",
        "    \"Model\": [\n",
        "        \"Bag-of-Words\",\n",
        "        \"TF-IDF\",\n",
        "        \"CBOW (Trained)\",\n",
        "        \"Skip-Gram (Trained)\",\n",
        "        \"Pre-trained Word2Vec\",\n",
        "        \"Fine-tuned Word2Vec\"\n",
        "    ],\n",
        "    \"Accuracy\": [\n",
        "        0.7273,\n",
        "        0.7189,\n",
        "        0.5594,\n",
        "        0.6825,\n",
        "        0.7273,\n",
        "        0.7469\n",
        "    ],\n",
        "    \"Precision\": [\n",
        "        (0.72 + 0.73)/2,\n",
        "        (0.74 + 0.71)/2,\n",
        "        (0.56 + 0.56)/2,\n",
        "        (0.74 + 0.65)/2,\n",
        "        (0.74 + 0.72)/2,\n",
        "        (0.79 + 0.72)/2\n",
        "    ],\n",
        "    \"Recall\": [\n",
        "        (0.71 + 0.74)/2,\n",
        "        (0.65 + 0.78)/2,\n",
        "        (0.41 + 0.70)/2,\n",
        "        (0.53 + 0.82)/2,\n",
        "        (0.67 + 0.78)/2,\n",
        "        (0.64 + 0.84)/2\n",
        "    ],\n",
        "    \"F1-Score\": [\n",
        "        (0.72 + 0.74)/2,\n",
        "        (0.69 + 0.74)/2,\n",
        "        (0.48 + 0.62)/2,\n",
        "        (0.62 + 0.73)/2,\n",
        "        (0.70 + 0.75)/2,\n",
        "        (0.71 + 0.77)/2\n",
        "    ]\n",
        "}\n",
        "\n",
        "df = pd.DataFrame(data)\n",
        "\n",
        "# Set seaborn style\n",
        "sns.set(style=\"whitegrid\")\n",
        "\n",
        "# Melt the DataFrame for a grouped bar plot\n",
        "df_melted = df.melt(id_vars=\"Model\", var_name=\"Metric\", value_name=\"Score\")\n",
        "\n",
        "# Set plot size\n",
        "plt.figure(figsize=(14, 6))\n",
        "\n",
        "# Create barplot\n",
        "ax = sns.barplot(\n",
        "    x=\"Model\",\n",
        "    y=\"Score\",\n",
        "    hue=\"Metric\",\n",
        "    data=df_melted,\n",
        "    palette = sns.color_palette(\"bright\")[:4]\n",
        "\n",
        ")\n",
        "\n",
        "# Rotate x-axis labels\n",
        "plt.xticks(ha='center')\n",
        "\n",
        "# Add title and format\n",
        "plt.title(\"Performance Comparison of Text Representation Techniques\", fontsize=14)\n",
        "plt.ylabel(\"Score\")\n",
        "plt.xlabel(\"Model\")\n",
        "ax.yaxis.set_major_formatter(mtick.PercentFormatter(xmax=1.0))\n",
        "\n",
        "# Add data labels\n",
        "for container in ax.containers:\n",
        "    ax.bar_label(container, fmt='%.3f', label_type='edge', fontsize=7, padding=2)\n",
        "\n",
        "plt.legend(loc='upper left', bbox_to_anchor=(1, 1))\n",
        "plt.tight_layout()\n",
        "\n",
        "plt.show()"
      ],
      "metadata": {
        "colab": {
          "base_uri": "https://localhost:8080/",
          "height": 600
        },
        "id": "DRXE1tqL3yCL",
        "outputId": "60364185-09a5-4d5c-819c-f5c9095201f1"
      },
      "execution_count": null,
      "outputs": [
        {
          "output_type": "display_data",
          "data": {
            "text/plain": [
              "<Figure size 1400x600 with 1 Axes>"
            ],
            "image/png": "[encoded data removed]"
          },
          "metadata": {}
        }
      ]
    },
    {
      "cell_type": "markdown",
      "source": [
        "## Reflections\n",
        "\n",
        "### **(a) What Surprised Me?**\n",
        "\n",
        "One of the most surprising outcomes of this project was how well simpler models like **TF-IDF** and **Bag-of-Words (BoW)** performed in comparison to more complex, self-trained neural embedding methods such as **Word2Vec (CBOW and Skip-Gram)**. While it is commonly expected that learned embeddings capture deeper semantic relationships and thus should noticeably outperform traditional approaches, our results did not reflect a significant improvement with neural embeddings over TF-IDF.\n",
        "\n",
        "Several factors may explain this:\n",
        "\n",
        "1. **Dataset Size & Nature:** The **Dreaddit dataset** is relatively small and domain-specific. For such focused corpora, classical statistical methods like TF-IDF often remain competitive because they are robust and less data-hungry.\n",
        "2. **Training Sensitivity:** We used a **small context window size of 5** due to the limited data. It was surprising to see how **sensitive Word2Vec embeddings** were to training parameters like context window size, embedding dimension, and corpus size. The performance varied significantly with small tweaks.\n",
        "3. **Classifier Choice:** For fairness, we used **logistic regression** across all models. While Word2Vec may generate richer embeddings, **logistic regression is a linear classifier** and cannot exploit the complex patterns that embeddings might encode. In such cases, the classifier becomes a bottleneck, limiting performance gains from better representations.\n",
        "\n",
        "\n",
        "**(b) What can be the scope for improvement?**\n",
        "\n",
        "There are several potential areas for improvement:\n",
        "\n",
        "* **Larger Corpus for Training Word Embeddings:** Training Word2Vec models from scratch on the small Dreaddit dataset limits their effectiveness. Using a larger and more diverse text corpus for pretraining (e.g., Reddit dumps, Twitter data, or Wikipedia) could yield more informative embeddings.\n",
        "* **Model Architecture:** While logistic regression was used uniformly to ensure fair comparison, experimenting with deeper architectures such as shallow feedforward networks or even lightweight CNNs/RNNs might improve performance for neural embeddings.\n",
        "* **Data Augmentation and Preprocessing:** Incorporating techniques like synonym replacement, paraphrasing, or back-translation could help expand the training dataset and make models more robust.\n",
        "* **Advanced Embeddings:** Exploring newer embedding techniques like GloVe or FastText (still shallow, but more expressive) could serve as a middle ground between traditional vectorizers and heavy Transformer models.\n",
        "* **Error Analysis:** A deeper analysis of misclassified samples could reveal specific linguistic patterns or confounding factors affecting classification accuracy, which can then inform targeted improvements.\n",
        "\n",
        "Overall, while the project validates the utility of foundational NLP techniques, it also opens the door to future work with more sophisticated tools, especially for scaling to broader and more nuanced mental health applications.\n"
      ],
      "metadata": {
        "id": "FDkPqmWFbTbv"
      }
    },
    {
      "cell_type": "markdown",
      "source": [
        "## References\n",
        "\n",
        "* **Datasets:**\n",
        "\n",
        "  * [Dreaddit Train Dataset (Reddit-based stress classification)](https://www.kaggle.com/datasets/ruchi798/stress-analysis-in-social-media/data?select=dreaddit-train.csv)\n",
        "  * [Dreaddit Test Dataset (Reddit-based stress classification)](https://www.kaggle.com/datasets/ruchi798/stress-analysis-in-social-media/data?select=dreaddit-test.csv)\n",
        "\n",
        "\n",
        "* **Educational Content:**\n",
        "\n",
        "  * Course lectures from *DA623: Computing with Signals*, Winter 2025 (IIT Guwahati)\n",
        "  * Official TensorFlow and Scikit-learn documentation\n",
        "\n",
        "* **LLM Assistance:**\n",
        "\n",
        "  * ChatGPT – used for guidance, and debugging.\n",
        "\n",
        "* **Tutorials & Inspiration:**\n",
        "\n",
        "  * [Word Embedding using Word2Vec](https://www.geeksforgeeks.org/python-word-embedding-using-word2vec/)\n",
        "\n",
        "  * [Machine Learning Mastery – Text Classification](https://machinelearningmastery.com/prepare-text-data-machine-learning-scikit-learn/)\n",
        "  * [Keras Examples – Text Classification with CNNs](https://keras.io/examples/nlp/text_classification_from_scratch/)\n",
        "\n"
      ],
      "metadata": {
        "id": "PxJMyOEOtNdY"
      }
    }
  ]
}